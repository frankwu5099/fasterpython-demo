{
 "cells": [
  {
   "cell_type": "code",
   "execution_count": 1,
   "id": "eab10f22-01a0-4d30-a5a8-73a0ce726983",
   "metadata": {},
   "outputs": [],
   "source": [
    "import numpy as np\n",
    "import numba\n",
    "from multiprocessing import Pool"
   ]
  },
  {
   "cell_type": "code",
   "execution_count": 2,
   "id": "ae449786-9e8c-4a0a-8b48-fa1d44c7bb3e",
   "metadata": {},
   "outputs": [],
   "source": [
    "a = np.random.rand(10000)\n",
    "b = np.random.rand(10000)"
   ]
  },
  {
   "cell_type": "code",
   "execution_count": 3,
   "id": "92e2a1e2-4df4-4584-bf73-3fe58cdbf5b7",
   "metadata": {},
   "outputs": [
    {
     "name": "stdout",
     "output_type": "stream",
     "text": [
      "CPU times: user 270 µs, sys: 67 µs, total: 337 µs\n",
      "Wall time: 232 µs\n"
     ]
    }
   ],
   "source": [
    "%%time\n",
    "a = a+b"
   ]
  },
  {
   "cell_type": "code",
   "execution_count": 4,
   "id": "b98bc47b-a33a-4783-969f-31bdfc1b6402",
   "metadata": {},
   "outputs": [
    {
     "name": "stdout",
     "output_type": "stream",
     "text": [
      "[0.18353642 1.55871955 1.48775032 ... 0.90645855 0.624944   0.61802866]\n"
     ]
    }
   ],
   "source": [
    "print(a)"
   ]
  },
  {
   "cell_type": "code",
   "execution_count": 5,
   "id": "f71a2e03-41ac-42f4-bb4d-ee87422b53ce",
   "metadata": {},
   "outputs": [
    {
     "name": "stdout",
     "output_type": "stream",
     "text": [
      "CPU times: user 1.54 ms, sys: 383 µs, total: 1.93 ms\n",
      "Wall time: 1.93 ms\n"
     ]
    }
   ],
   "source": [
    "%%time\n",
    "for i in range(len(a)):\n",
    "    a[i] = a[i] + b[i]"
   ]
  },
  {
   "cell_type": "code",
   "execution_count": 6,
   "id": "7e125ba9-715b-4c7d-922b-b7e36578c224",
   "metadata": {},
   "outputs": [
    {
     "name": "stdout",
     "output_type": "stream",
     "text": [
      "[0.23474167 2.53345878 2.14792732 ... 1.32954184 1.1285874  0.66553605]\n"
     ]
    }
   ],
   "source": [
    "print(a)"
   ]
  },
  {
   "cell_type": "code",
   "execution_count": 16,
   "id": "5c2f04d2-e7fa-4fd7-837a-519056274f5e",
   "metadata": {},
   "outputs": [
    {
     "name": "stdout",
     "output_type": "stream",
     "text": [
      "CPU times: user 12 s, sys: 0 ns, total: 12 s\n",
      "Wall time: 12.1 s\n"
     ]
    }
   ],
   "source": [
    "%%time\n",
    "c = []\n",
    "for i in range(40000):\n",
    "    a = np.random.randn(10000)\n",
    "    b = np.random.randn(10000)\n",
    "    c.append((a*b).sum())"
   ]
  },
  {
   "cell_type": "code",
   "execution_count": 17,
   "id": "7327c225-c17f-4c36-8de8-21298b07e17b",
   "metadata": {},
   "outputs": [
    {
     "name": "stdout",
     "output_type": "stream",
     "text": [
      "CPU times: user 21.6 ms, sys: 20 ms, total: 41.6 ms\n",
      "Wall time: 2.67 s\n"
     ]
    }
   ],
   "source": [
    "%%time\n",
    "def f(x):\n",
    "    a = np.random.randn(10000)\n",
    "    b = np.random.randn(10000)\n",
    "    return (a*b).sum()\n",
    "with Pool(5) as p:\n",
    "    p.map(f, list(range(40000)))"
   ]
  },
  {
   "cell_type": "code",
   "execution_count": 18,
   "id": "0e24c248-41ea-4086-ac26-9bbe15709d2a",
   "metadata": {},
   "outputs": [],
   "source": [
    "def product_sum(a,b):\n",
    "    out = 0\n",
    "    for i in range(len(a)):\n",
    "        out += a[i]*b[i]\n",
    "    return out\n",
    "def f2(x):\n",
    "    a = np.random.randn(10000)\n",
    "    b = np.random.randn(10000)\n",
    "    return product_sum(a,b)"
   ]
  },
  {
   "cell_type": "code",
   "execution_count": 20,
   "id": "1caf7c95-cfbc-486d-8a23-c9c8855ea5bd",
   "metadata": {},
   "outputs": [
    {
     "name": "stdout",
     "output_type": "stream",
     "text": [
      "CPU times: user 1.97 s, sys: 0 ns, total: 1.97 s\n",
      "Wall time: 1.97 s\n"
     ]
    }
   ],
   "source": [
    "%%time\n",
    "c = [f2(i) for i in range(1000)]"
   ]
  },
  {
   "cell_type": "code",
   "execution_count": 21,
   "id": "11dff761-2ac7-4efc-8c06-86612b1b3e0e",
   "metadata": {},
   "outputs": [],
   "source": [
    "@numba.jit\n",
    "def product_sum(a,b):\n",
    "    out = 0\n",
    "    for i in range(len(a)):\n",
    "        out += a[i]*b[i]\n",
    "    return out\n",
    "def f2(x):\n",
    "    a = np.random.randn(10000)\n",
    "    b = np.random.randn(10000)\n",
    "    return product_sum(a,b)"
   ]
  },
  {
   "cell_type": "code",
   "execution_count": 24,
   "id": "7d10d7a0-031e-4f0e-aad9-22f533ba02de",
   "metadata": {},
   "outputs": [
    {
     "name": "stdout",
     "output_type": "stream",
     "text": [
      "CPU times: user 12.1 s, sys: 3.94 ms, total: 12.1 s\n",
      "Wall time: 12.1 s\n"
     ]
    }
   ],
   "source": [
    "%%time\n",
    "c = [f2(i) for i in range(40000)]"
   ]
  },
  {
   "cell_type": "code",
   "execution_count": 25,
   "id": "6d5d0596-10fd-4e78-8049-65ed190bbb47",
   "metadata": {},
   "outputs": [
    {
     "name": "stdout",
     "output_type": "stream",
     "text": [
      "CPU times: user 11 ms, sys: 20 µs, total: 11 ms\n",
      "Wall time: 9.92 ms\n"
     ]
    }
   ],
   "source": [
    "%%time\n",
    "for i in range(100):\n",
    "    np.sin(a)"
   ]
  },
  {
   "cell_type": "code",
   "execution_count": 51,
   "id": "951a4c7c-c033-4d7b-ac2c-59e54e5f6a6d",
   "metadata": {},
   "outputs": [],
   "source": [
    "from math import sin\n",
    "@numba.vectorize()\n",
    "def nbvc_sin2(x):\n",
    "    return sin(x)**2"
   ]
  },
  {
   "cell_type": "code",
   "execution_count": 52,
   "id": "6b05baa2-187a-4317-b9c3-f36d5e0798e2",
   "metadata": {},
   "outputs": [
    {
     "name": "stdout",
     "output_type": "stream",
     "text": [
      "CPU times: user 1.61 s, sys: 0 ns, total: 1.61 s\n",
      "Wall time: 1.61 s\n"
     ]
    }
   ],
   "source": [
    "%%time\n",
    "for i in range(10000):\n",
    "    np.sin(a)*np.sin(a)"
   ]
  },
  {
   "cell_type": "code",
   "execution_count": 53,
   "id": "ff8605ea-638d-4ffb-b0d0-ceb236f644ed",
   "metadata": {},
   "outputs": [
    {
     "name": "stdout",
     "output_type": "stream",
     "text": [
      "CPU times: user 818 ms, sys: 3.29 ms, total: 821 ms\n",
      "Wall time: 821 ms\n"
     ]
    }
   ],
   "source": [
    "%%time\n",
    "for i in range(10000):\n",
    "    np.sin(a)**2"
   ]
  },
  {
   "cell_type": "code",
   "execution_count": 54,
   "id": "6621d12c-23bb-4f7e-aadc-cc1abfafd28b",
   "metadata": {},
   "outputs": [
    {
     "name": "stdout",
     "output_type": "stream",
     "text": [
      "CPU times: user 772 ms, sys: 0 ns, total: 772 ms\n",
      "Wall time: 772 ms\n"
     ]
    }
   ],
   "source": [
    "%%time\n",
    "for i in range(10000):\n",
    "    nbvc_sin2(a)"
   ]
  },
  {
   "cell_type": "code",
   "execution_count": 45,
   "id": "957a2225-4ff0-44cb-a1a3-9ce931c1737d",
   "metadata": {},
   "outputs": [],
   "source": [
    "@numba.jit(parallel=True)\n",
    "def nb_pl_product_sum():\n",
    "    c = []\n",
    "    for i in range(40000):\n",
    "        a = np.random.randn(10000)\n",
    "        b = np.random.randn(10000)\n",
    "        c.append((a*b).sum())"
   ]
  },
  {
   "cell_type": "code",
   "execution_count": 48,
   "id": "0756887c-592d-42a5-b455-795bd1124d2b",
   "metadata": {},
   "outputs": [
    {
     "name": "stdout",
     "output_type": "stream",
     "text": [
      "CPU times: user 55.5 s, sys: 4.5 s, total: 60 s\n",
      "Wall time: 3.88 s\n"
     ]
    }
   ],
   "source": [
    "%%time\n",
    "nb_pl_product_sum()"
   ]
  },
  {
   "cell_type": "code",
   "execution_count": null,
   "id": "81796bb5-100c-4ae4-b341-3f252bbe7f82",
   "metadata": {},
   "outputs": [],
   "source": []
  }
 ],
 "metadata": {
  "kernelspec": {
   "display_name": "Python 3",
   "language": "python",
   "name": "python3"
  },
  "language_info": {
   "codemirror_mode": {
    "name": "ipython",
    "version": 3
   },
   "file_extension": ".py",
   "mimetype": "text/x-python",
   "name": "python",
   "nbconvert_exporter": "python",
   "pygments_lexer": "ipython3",
   "version": "3.8.8"
  }
 },
 "nbformat": 4,
 "nbformat_minor": 5
}
